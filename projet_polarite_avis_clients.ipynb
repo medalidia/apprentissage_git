{
  "cells": [
    {
      "cell_type": "markdown",
      "metadata": {
        "id": "view-in-github",
        "colab_type": "text"
      },
      "source": [
        "<a href=\"https://colab.research.google.com/github/medalidia/apprentissage_git/blob/main/projet_polarite_avis_clients.ipynb\" target=\"_parent\"><img src=\"https://colab.research.google.com/assets/colab-badge.svg\" alt=\"Open In Colab\"/></a>"
      ]
    },
    {
      "cell_type": "markdown",
      "id": "2354b328",
      "metadata": {
        "id": "2354b328"
      },
      "source": [
        "\n",
        "# Projet NLP – Classification de la polarité des avis clients\n",
        "**Auteur : Mohamed Ali Dia**  \n",
        "**Date : 12 Juillet 2025**  \n",
        "\n",
        "Ce projet a pour objectif de développer un système automatique permettant de classifier un avis client en ligne comme **positif** ou **négatif**, en utilisant un jeu de données d’avis en français.  \n",
        "Nous allons passer par les étapes suivantes :\n",
        "\n",
        "- Prétraitement des textes (nettoyage, lemmatisation)\n",
        "- Analyse exploratoire\n",
        "- Vectorisation des textes (TF-IDF)\n",
        "- Entraînement de plusieurs modèles de classification\n",
        "- Évaluation comparative\n",
        "- Sauvegarde des modèles\n"
      ]
    },
    {
      "cell_type": "markdown",
      "id": "78b3d8d7",
      "metadata": {
        "id": "78b3d8d7"
      },
      "source": [
        "## 1. Importation des bibliothèques"
      ]
    },
    {
      "cell_type": "code",
      "execution_count": null,
      "id": "6be75187",
      "metadata": {
        "id": "6be75187"
      },
      "outputs": [],
      "source": [
        "\n",
        "import pandas as pd                   # manipulation de données en DataFrame\n",
        "import numpy as np                    # calculs numériques\n",
        "import matplotlib.pyplot as plt       # visualisation graphique\n",
        "import seaborn as sns                 # visualisation avancée basée sur matplotlib\n",
        "import re                             # expressions régulières pour nettoyage texte\n",
        "import string                         # manipulation de chaînes (ponctuation)\n",
        "import nltk                           # traitement de texte (stopwords)\n",
        "import joblib                         # sauvegarde et chargement de modèles\n",
        "import spacy                          # NLP : lemmatisation, tokenisation avancée\n",
        "from wordcloud import WordCloud       # génération de nuage de mots\n",
        "from collections import Counter       # compter la fréquence des mots\n",
        "import itertools                      # opérations sur itérables\n",
        "from nltk.corpus import stopwords     # liste des mots vides (stopwords)\n",
        "\n",
        "from sklearn.model_selection import train_test_split                           # séparation train/test\n",
        "from sklearn.feature_extraction.text import TfidfVectorizer, CountVectorizer   # vectorisation TF-IDF et compte\n",
        "from sklearn.linear_model import LogisticRegression                            # Logistic Regression\n",
        "from sklearn.svm import LinearSVC                                              # SVM linéaire\n",
        "from sklearn.ensemble import RandomForestClassifier                            # Random Forest\n",
        "from sklearn.pipeline import Pipeline                                          # pipeline de traitement\n",
        "from sklearn.metrics import (\n",
        "    classification_report,\n",
        "    confusion_matrix,\n",
        "    accuracy_score,\n",
        "    ConfusionMatrixDisplay,\n",
        "    f1_score\n",
        ")\n"
      ]
    },
    {
      "cell_type": "markdown",
      "id": "d37facfe",
      "metadata": {
        "id": "d37facfe"
      },
      "source": [
        "## 2. Préparation des outils linguistiques"
      ]
    },
    {
      "cell_type": "code",
      "execution_count": null,
      "id": "455fcec6",
      "metadata": {
        "colab": {
          "base_uri": "https://localhost:8080/"
        },
        "id": "455fcec6",
        "outputId": "62977f49-da72-4a35-b46f-3da305e164ff"
      },
      "outputs": [
        {
          "output_type": "stream",
          "name": "stderr",
          "text": [
            "[nltk_data] Downloading package stopwords to /root/nltk_data...\n",
            "[nltk_data]   Package stopwords is already up-to-date!\n"
          ]
        }
      ],
      "source": [
        "\n",
        "# Téléchargement des stopwords français si non déjà présents\n",
        "nltk.download('stopwords')\n"
      ]
    },
    {
      "cell_type": "code",
      "source": [
        "# Charger la liste des mots vides en français\n",
        "stop_words = set(stopwords.words('french'))"
      ],
      "metadata": {
        "id": "n4CO0AKlU3Zu"
      },
      "id": "n4CO0AKlU3Zu",
      "execution_count": null,
      "outputs": []
    },
    {
      "cell_type": "code",
      "source": [
        "# Chargement du modèle SpaCy français avec gestion d’erreur\n",
        "import subprocess\n",
        "try:\n",
        "    nlp = spacy.load(\"fr_core_news_sm\")\n",
        "except:\n",
        "    subprocess.run([\"python\", \"-m\", \"spacy\", \"download\", \"fr_core_news_sm\"])\n",
        "    nlp = spacy.load(\"fr_core_news_sm\")"
      ],
      "metadata": {
        "id": "0QiNS7u6Ut0O"
      },
      "id": "0QiNS7u6Ut0O",
      "execution_count": null,
      "outputs": []
    },
    {
      "cell_type": "markdown",
      "id": "20fdc828",
      "metadata": {
        "id": "20fdc828"
      },
      "source": [
        "## 3. Chargement du jeu de données"
      ]
    },
    {
      "cell_type": "code",
      "execution_count": null,
      "id": "f6336d73",
      "metadata": {
        "colab": {
          "base_uri": "https://localhost:8080/"
        },
        "id": "f6336d73",
        "outputId": "f6cb5e19-d90a-4c5b-a856-845284e692e4"
      },
      "outputs": [
        {
          "output_type": "stream",
          "name": "stdout",
          "text": [
            "                                                   review  label\n",
            "120476  Un excellent thriller d'action où les scènes d...      1\n",
            "32693   Si le scénariste, qui aurait pu faire un minim...      0\n",
            "79958   Référence dans la filmographie de Bogart, \"Le ...      0\n",
            "76366   Un bon scénario, un bon film, une histoire lou...      1\n",
            "82343   Un scenario vide et une mise en scene trés sop...      0\n"
          ]
        }
      ],
      "source": [
        "# Définition des chemins vers les splits train, validation, test\n",
        "splits = {\n",
        "    'train': 'allocine/train-00000-of-00001.parquet',\n",
        "    'validation': 'allocine/validation-00000-of-00001.parquet',\n",
        "    'test': 'allocine/test-00000-of-00001.parquet'\n",
        "    }"
      ]
    },
    {
      "cell_type": "code",
      "source": [
        "# Chargement du fichier parquet d'entraînement depuis HuggingFace datasets\n",
        "df = pd.read_parquet(\"hf://datasets/tblard/allocine/\" + splits[\"train\"])"
      ],
      "metadata": {
        "id": "BqOzP-i9VHng"
      },
      "id": "BqOzP-i9VHng",
      "execution_count": null,
      "outputs": []
    },
    {
      "cell_type": "code",
      "source": [
        "# # Pour accélérer le traitement, on réduit à un échantillon de 10 000 exemples pour limiter le temps d'exécution\n",
        "df = df.sample(10000, random_state=42)\n",
        "\n",
        "# Ne garder que les colonnes utiles 'review'(texte) et 'label' (polarité)\n",
        "df = df[['review', 'label']]"
      ],
      "metadata": {
        "id": "kW3b0IocVYTu"
      },
      "id": "kW3b0IocVYTu",
      "execution_count": null,
      "outputs": []
    },
    {
      "cell_type": "code",
      "source": [
        "# Affichage des premières lignes du DataFrame\n",
        "print(df.head())"
      ],
      "metadata": {
        "id": "6Y31FDu3VlLm"
      },
      "id": "6Y31FDu3VlLm",
      "execution_count": null,
      "outputs": []
    },
    {
      "cell_type": "markdown",
      "id": "857890a5",
      "metadata": {
        "id": "857890a5"
      },
      "source": [
        "## 4. Nettoyage et lemmatisation des textes"
      ]
    },
    {
      "cell_type": "code",
      "execution_count": null,
      "id": "a089ef27",
      "metadata": {
        "colab": {
          "base_uri": "https://localhost:8080/",
          "height": 206
        },
        "id": "a089ef27",
        "outputId": "5f853ae5-6b94-494f-a03a-3bdb609bb034"
      },
      "outputs": [
        {
          "output_type": "execute_result",
          "data": {
            "text/plain": [
              "                                                   review  \\\n",
              "120476  Un excellent thriller d'action où les scènes d...   \n",
              "32693   Si le scénariste, qui aurait pu faire un minim...   \n",
              "79958   Référence dans la filmographie de Bogart, \"Le ...   \n",
              "76366   Un bon scénario, un bon film, une histoire lou...   \n",
              "82343   Un scenario vide et une mise en scene trés sop...   \n",
              "\n",
              "                                             clean_review  \n",
              "120476  excellent thriller daction scène bravoure croi...  \n",
              "32693   scénariste avoir faire minimum recherche évite...  \n",
              "79958   référence filmographie bogart violent nen rest...  \n",
              "76366   bon scénario bon film histoire loufoque ténébr...  \n",
              "82343   scenario vide mise scene trer soporifique fill...  "
            ],
            "text/html": [
              "\n",
              "  <div id=\"df-9be69bb3-6e64-4dc3-81fa-123ae0e5e715\" class=\"colab-df-container\">\n",
              "    <div>\n",
              "<style scoped>\n",
              "    .dataframe tbody tr th:only-of-type {\n",
              "        vertical-align: middle;\n",
              "    }\n",
              "\n",
              "    .dataframe tbody tr th {\n",
              "        vertical-align: top;\n",
              "    }\n",
              "\n",
              "    .dataframe thead th {\n",
              "        text-align: right;\n",
              "    }\n",
              "</style>\n",
              "<table border=\"1\" class=\"dataframe\">\n",
              "  <thead>\n",
              "    <tr style=\"text-align: right;\">\n",
              "      <th></th>\n",
              "      <th>review</th>\n",
              "      <th>clean_review</th>\n",
              "    </tr>\n",
              "  </thead>\n",
              "  <tbody>\n",
              "    <tr>\n",
              "      <th>120476</th>\n",
              "      <td>Un excellent thriller d'action où les scènes d...</td>\n",
              "      <td>excellent thriller daction scène bravoure croi...</td>\n",
              "    </tr>\n",
              "    <tr>\n",
              "      <th>32693</th>\n",
              "      <td>Si le scénariste, qui aurait pu faire un minim...</td>\n",
              "      <td>scénariste avoir faire minimum recherche évite...</td>\n",
              "    </tr>\n",
              "    <tr>\n",
              "      <th>79958</th>\n",
              "      <td>Référence dans la filmographie de Bogart, \"Le ...</td>\n",
              "      <td>référence filmographie bogart violent nen rest...</td>\n",
              "    </tr>\n",
              "    <tr>\n",
              "      <th>76366</th>\n",
              "      <td>Un bon scénario, un bon film, une histoire lou...</td>\n",
              "      <td>bon scénario bon film histoire loufoque ténébr...</td>\n",
              "    </tr>\n",
              "    <tr>\n",
              "      <th>82343</th>\n",
              "      <td>Un scenario vide et une mise en scene trés sop...</td>\n",
              "      <td>scenario vide mise scene trer soporifique fill...</td>\n",
              "    </tr>\n",
              "  </tbody>\n",
              "</table>\n",
              "</div>\n",
              "    <div class=\"colab-df-buttons\">\n",
              "\n",
              "  <div class=\"colab-df-container\">\n",
              "    <button class=\"colab-df-convert\" onclick=\"convertToInteractive('df-9be69bb3-6e64-4dc3-81fa-123ae0e5e715')\"\n",
              "            title=\"Convert this dataframe to an interactive table.\"\n",
              "            style=\"display:none;\">\n",
              "\n",
              "  <svg xmlns=\"http://www.w3.org/2000/svg\" height=\"24px\" viewBox=\"0 -960 960 960\">\n",
              "    <path d=\"M120-120v-720h720v720H120Zm60-500h600v-160H180v160Zm220 220h160v-160H400v160Zm0 220h160v-160H400v160ZM180-400h160v-160H180v160Zm440 0h160v-160H620v160ZM180-180h160v-160H180v160Zm440 0h160v-160H620v160Z\"/>\n",
              "  </svg>\n",
              "    </button>\n",
              "\n",
              "  <style>\n",
              "    .colab-df-container {\n",
              "      display:flex;\n",
              "      gap: 12px;\n",
              "    }\n",
              "\n",
              "    .colab-df-convert {\n",
              "      background-color: #E8F0FE;\n",
              "      border: none;\n",
              "      border-radius: 50%;\n",
              "      cursor: pointer;\n",
              "      display: none;\n",
              "      fill: #1967D2;\n",
              "      height: 32px;\n",
              "      padding: 0 0 0 0;\n",
              "      width: 32px;\n",
              "    }\n",
              "\n",
              "    .colab-df-convert:hover {\n",
              "      background-color: #E2EBFA;\n",
              "      box-shadow: 0px 1px 2px rgba(60, 64, 67, 0.3), 0px 1px 3px 1px rgba(60, 64, 67, 0.15);\n",
              "      fill: #174EA6;\n",
              "    }\n",
              "\n",
              "    .colab-df-buttons div {\n",
              "      margin-bottom: 4px;\n",
              "    }\n",
              "\n",
              "    [theme=dark] .colab-df-convert {\n",
              "      background-color: #3B4455;\n",
              "      fill: #D2E3FC;\n",
              "    }\n",
              "\n",
              "    [theme=dark] .colab-df-convert:hover {\n",
              "      background-color: #434B5C;\n",
              "      box-shadow: 0px 1px 3px 1px rgba(0, 0, 0, 0.15);\n",
              "      filter: drop-shadow(0px 1px 2px rgba(0, 0, 0, 0.3));\n",
              "      fill: #FFFFFF;\n",
              "    }\n",
              "  </style>\n",
              "\n",
              "    <script>\n",
              "      const buttonEl =\n",
              "        document.querySelector('#df-9be69bb3-6e64-4dc3-81fa-123ae0e5e715 button.colab-df-convert');\n",
              "      buttonEl.style.display =\n",
              "        google.colab.kernel.accessAllowed ? 'block' : 'none';\n",
              "\n",
              "      async function convertToInteractive(key) {\n",
              "        const element = document.querySelector('#df-9be69bb3-6e64-4dc3-81fa-123ae0e5e715');\n",
              "        const dataTable =\n",
              "          await google.colab.kernel.invokeFunction('convertToInteractive',\n",
              "                                                    [key], {});\n",
              "        if (!dataTable) return;\n",
              "\n",
              "        const docLinkHtml = 'Like what you see? Visit the ' +\n",
              "          '<a target=\"_blank\" href=https://colab.research.google.com/notebooks/data_table.ipynb>data table notebook</a>'\n",
              "          + ' to learn more about interactive tables.';\n",
              "        element.innerHTML = '';\n",
              "        dataTable['output_type'] = 'display_data';\n",
              "        await google.colab.output.renderOutput(dataTable, element);\n",
              "        const docLink = document.createElement('div');\n",
              "        docLink.innerHTML = docLinkHtml;\n",
              "        element.appendChild(docLink);\n",
              "      }\n",
              "    </script>\n",
              "  </div>\n",
              "\n",
              "\n",
              "    <div id=\"df-f4c26fe5-b1f0-495b-b795-8410af9b4036\">\n",
              "      <button class=\"colab-df-quickchart\" onclick=\"quickchart('df-f4c26fe5-b1f0-495b-b795-8410af9b4036')\"\n",
              "                title=\"Suggest charts\"\n",
              "                style=\"display:none;\">\n",
              "\n",
              "<svg xmlns=\"http://www.w3.org/2000/svg\" height=\"24px\"viewBox=\"0 0 24 24\"\n",
              "     width=\"24px\">\n",
              "    <g>\n",
              "        <path d=\"M19 3H5c-1.1 0-2 .9-2 2v14c0 1.1.9 2 2 2h14c1.1 0 2-.9 2-2V5c0-1.1-.9-2-2-2zM9 17H7v-7h2v7zm4 0h-2V7h2v10zm4 0h-2v-4h2v4z\"/>\n",
              "    </g>\n",
              "</svg>\n",
              "      </button>\n",
              "\n",
              "<style>\n",
              "  .colab-df-quickchart {\n",
              "      --bg-color: #E8F0FE;\n",
              "      --fill-color: #1967D2;\n",
              "      --hover-bg-color: #E2EBFA;\n",
              "      --hover-fill-color: #174EA6;\n",
              "      --disabled-fill-color: #AAA;\n",
              "      --disabled-bg-color: #DDD;\n",
              "  }\n",
              "\n",
              "  [theme=dark] .colab-df-quickchart {\n",
              "      --bg-color: #3B4455;\n",
              "      --fill-color: #D2E3FC;\n",
              "      --hover-bg-color: #434B5C;\n",
              "      --hover-fill-color: #FFFFFF;\n",
              "      --disabled-bg-color: #3B4455;\n",
              "      --disabled-fill-color: #666;\n",
              "  }\n",
              "\n",
              "  .colab-df-quickchart {\n",
              "    background-color: var(--bg-color);\n",
              "    border: none;\n",
              "    border-radius: 50%;\n",
              "    cursor: pointer;\n",
              "    display: none;\n",
              "    fill: var(--fill-color);\n",
              "    height: 32px;\n",
              "    padding: 0;\n",
              "    width: 32px;\n",
              "  }\n",
              "\n",
              "  .colab-df-quickchart:hover {\n",
              "    background-color: var(--hover-bg-color);\n",
              "    box-shadow: 0 1px 2px rgba(60, 64, 67, 0.3), 0 1px 3px 1px rgba(60, 64, 67, 0.15);\n",
              "    fill: var(--button-hover-fill-color);\n",
              "  }\n",
              "\n",
              "  .colab-df-quickchart-complete:disabled,\n",
              "  .colab-df-quickchart-complete:disabled:hover {\n",
              "    background-color: var(--disabled-bg-color);\n",
              "    fill: var(--disabled-fill-color);\n",
              "    box-shadow: none;\n",
              "  }\n",
              "\n",
              "  .colab-df-spinner {\n",
              "    border: 2px solid var(--fill-color);\n",
              "    border-color: transparent;\n",
              "    border-bottom-color: var(--fill-color);\n",
              "    animation:\n",
              "      spin 1s steps(1) infinite;\n",
              "  }\n",
              "\n",
              "  @keyframes spin {\n",
              "    0% {\n",
              "      border-color: transparent;\n",
              "      border-bottom-color: var(--fill-color);\n",
              "      border-left-color: var(--fill-color);\n",
              "    }\n",
              "    20% {\n",
              "      border-color: transparent;\n",
              "      border-left-color: var(--fill-color);\n",
              "      border-top-color: var(--fill-color);\n",
              "    }\n",
              "    30% {\n",
              "      border-color: transparent;\n",
              "      border-left-color: var(--fill-color);\n",
              "      border-top-color: var(--fill-color);\n",
              "      border-right-color: var(--fill-color);\n",
              "    }\n",
              "    40% {\n",
              "      border-color: transparent;\n",
              "      border-right-color: var(--fill-color);\n",
              "      border-top-color: var(--fill-color);\n",
              "    }\n",
              "    60% {\n",
              "      border-color: transparent;\n",
              "      border-right-color: var(--fill-color);\n",
              "    }\n",
              "    80% {\n",
              "      border-color: transparent;\n",
              "      border-right-color: var(--fill-color);\n",
              "      border-bottom-color: var(--fill-color);\n",
              "    }\n",
              "    90% {\n",
              "      border-color: transparent;\n",
              "      border-bottom-color: var(--fill-color);\n",
              "    }\n",
              "  }\n",
              "</style>\n",
              "\n",
              "      <script>\n",
              "        async function quickchart(key) {\n",
              "          const quickchartButtonEl =\n",
              "            document.querySelector('#' + key + ' button');\n",
              "          quickchartButtonEl.disabled = true;  // To prevent multiple clicks.\n",
              "          quickchartButtonEl.classList.add('colab-df-spinner');\n",
              "          try {\n",
              "            const charts = await google.colab.kernel.invokeFunction(\n",
              "                'suggestCharts', [key], {});\n",
              "          } catch (error) {\n",
              "            console.error('Error during call to suggestCharts:', error);\n",
              "          }\n",
              "          quickchartButtonEl.classList.remove('colab-df-spinner');\n",
              "          quickchartButtonEl.classList.add('colab-df-quickchart-complete');\n",
              "        }\n",
              "        (() => {\n",
              "          let quickchartButtonEl =\n",
              "            document.querySelector('#df-f4c26fe5-b1f0-495b-b795-8410af9b4036 button');\n",
              "          quickchartButtonEl.style.display =\n",
              "            google.colab.kernel.accessAllowed ? 'block' : 'none';\n",
              "        })();\n",
              "      </script>\n",
              "    </div>\n",
              "\n",
              "    </div>\n",
              "  </div>\n"
            ],
            "application/vnd.google.colaboratory.intrinsic+json": {
              "type": "dataframe",
              "summary": "{\n  \"name\": \"df[['review', 'clean_review']]\",\n  \"rows\": 5,\n  \"fields\": [\n    {\n      \"column\": \"review\",\n      \"properties\": {\n        \"dtype\": \"string\",\n        \"num_unique_values\": 5,\n        \"samples\": [\n          \"Si le sc\\u00e9nariste, qui aurait pu faire un minimum de recherches pour \\u00e9viter que son film soit rempli d'erreurs historiques, voulait provoquer le frisson, c'est rat\\u00e9. Certaines sc\\u00e8nes font m\\u00eame sourire tellement elles sont rat\\u00e9es. S'il y a de bonnes id\\u00e9es, elles sont mal exploit\\u00e9es. En outre, l'actrice principale n'est pas cr\\u00e9dible et surjoue au possible. En revanche, ce film est \\u00e0 d\\u00e9conseiller aux personnes souffrant de claustrophobie. Peut-\\u00eatre que le seul int\\u00e9r\\u00eat du film est de donner envie de (re)visiter les \\\"catacombes\\\" de Paris.\",\n          \"Un scenario vide et une mise en scene tr\\u00e9s soporifique. La fille de Gerard Oury \\u00e0 bien du mal \\u00e0 s'imposer cette fois.\",\n          \"R\\u00e9f\\u00e9rence dans la filmographie de Bogart, \\\"Le Violent\\\" n'en reste pas moins d\\u00e9cevant par l'usage de personnages peu int\\u00e9ressants \\u00e9voluant dans un sc\\u00e9nario plat sans grand rebondissement. Nous offrant une histoire \\u00e0 premi\\u00e8re vue semblable \\u00e0 un petit Hitchcock, Nicholas Ray se laisse entra\\u00eener dans une banale histoire de c\\u0153ur dont la seule originalit\\u00e9 est le caract\\u00e8re plut\\u00f4t impr\\u00e9visible de Dix interpr\\u00e9t\\u00e9 par Humphrey Bogart. Bien heureusement il existe quelques qualit\\u00e9s pour tenter de d\\u00e9gager toute la poussi\\u00e8re qui recouvre aujourd'hui les bobines de ce classique du cin\\u00e9ma. Outre une mise en sc\\u00e8ne plus que correcte, \\\"Le Violent\\\" d\\u00e9voile des courses en voiture impressionnantes en vue de l'\\u00e9poque ainsi qu'un jeu d'acteur de Bogart tout bonnement incroyable. Malheureusement, ces qualit\\u00e9s de formes ne peuvent rattraper des faiblesses de fond gargantuesques qui perdent le spectateur dans la fatigue et la souffrance de la conventionnalit\\u00e9.\"\n        ],\n        \"semantic_type\": \"\",\n        \"description\": \"\"\n      }\n    },\n    {\n      \"column\": \"clean_review\",\n      \"properties\": {\n        \"dtype\": \"string\",\n        \"num_unique_values\": 5,\n        \"samples\": [\n          \"sc\\u00e9nariste avoir faire minimum recherche \\u00e9viter film \\u00eatre remplir derreur historique vouloir provoquer frisson cest rater certain sc\\u00e8ne faire sourire tellement \\u00eatre rater sil bon id\\u00e9e \\u00eatre mal exploiter outre lactrice principal nest cr\\u00e9dible surjou possible revanche film \\u00eatre d\\u00e9conseiller personne souffrir claustrophobie peut\\u00eatre seul int\\u00e9r\\u00eat film \\u00eatre donner envie revisiter catacombe pari\",\n          \"scenario vide mise scene trer soporifique fille gerard oury bien mal simposer fois\",\n          \"r\\u00e9f\\u00e9rence filmographie bogart violent nen reste moins d\\u00e9cevant lusage personnage peu int\\u00e9ressant \\u00e9voluer sc\\u00e9nario plat sans grand rebondissement offrir histoire premier vue semblable petit hitchcock nicholer ray laisse entra\\u00eener banal histoire c\\u0153ur dont seul originalit\\u00e9 \\u00eatre caract\\u00e8re plut\\u00f4t impr\\u00e9visible dix interpr\\u00e9ter humphrey bogart bien heureusement exister quelque qualit\\u00e9 tenter d\\u00e9gager tout poussi\\u00e8re recouvrir aujourdhui bobine classique cin\\u00e9ma outre mise sc\\u00e8ne plus correct violent d\\u00e9voile course voiture impressionner vue l\\u00e9poque ainsi quun jeu dacteur bogart tout bonnement incroyable malheureusement qualit\\u00e9 forme pouvoir rattraper faiblesse fond gargantuesque perdre spectateur fatigue souffrance conventionnalit\\u00e9\"\n        ],\n        \"semantic_type\": \"\",\n        \"description\": \"\"\n      }\n    }\n  ]\n}"
            }
          },
          "metadata": {},
          "execution_count": 11
        }
      ],
      "source": [
        "\n",
        "\"\"\"\n",
        "    Cette fonction nettoie un texte brut :\n",
        "    - Passage en minuscules\n",
        "    - Suppression des chiffres\n",
        "    - Suppression de la ponctuation\n",
        "    - Lemmatisation avec SpaCy\n",
        "    - Suppression des stopwords, des tokens non alphabétiques et très courts (< 3 caractères)\n",
        "  \"\"\"\n",
        "def clean_and_lemmatize(text):\n",
        "    text = text.lower()\n",
        "    text = re.sub(r'\\d+', '', text)\n",
        "    text = text.translate(str.maketrans('', '', string.punctuation))\n",
        "\n",
        "    # Analyse SpaCy\n",
        "    doc = nlp(text)\n",
        "    tokens = [\n",
        "        token.lemma_ for token in doc if token.lemma_.lower() not in stop_words and token.is_alpha and len(token) > 2\n",
        "    ]\n",
        "    return \" \".join(tokens)   # reconstruire phrase nettoyée et lemmatisée\n",
        "\n"
      ]
    },
    {
      "cell_type": "code",
      "source": [
        "# Application de la fonction à la colonne 'review' pour créer une nouvelle colonne 'clean_review'\n",
        "df['clean_review'] = df['review'].apply(clean_and_lemmatize)"
      ],
      "metadata": {
        "id": "_Pxgs9odW4dU"
      },
      "id": "_Pxgs9odW4dU",
      "execution_count": null,
      "outputs": []
    },
    {
      "cell_type": "code",
      "source": [
        "# Afficher un aperçu des textes originaux et nettoyés\n",
        "df[['review', 'clean_review']].head()"
      ],
      "metadata": {
        "id": "bRB8JeIsW8w4"
      },
      "id": "bRB8JeIsW8w4",
      "execution_count": null,
      "outputs": []
    },
    {
      "cell_type": "markdown",
      "id": "8f559b84",
      "metadata": {
        "id": "8f559b84"
      },
      "source": [
        "## 5. Exploration des données"
      ]
    },
    {
      "cell_type": "code",
      "execution_count": null,
      "id": "fa035230",
      "metadata": {
        "id": "fa035230"
      },
      "outputs": [],
      "source": [
        "# Afficher la distribution des classes (0 = négatif, 1 = positif)\n",
        "print(df['label'].value_counts())\n"
      ]
    },
    {
      "cell_type": "code",
      "source": [
        "# Visualisation graphique de la répartition des classes\n",
        "sns.countplot(x='label', data=df)\n",
        "plt.title(\"Distribution des avis\")\n",
        "plt.xlabel(\"Label (0 = négatif, 1 = positif)\")\n",
        "plt.ylabel(\"Nombre d'exemples\")\n",
        "plt.show()"
      ],
      "metadata": {
        "id": "XPWB2cDFXNaC"
      },
      "id": "XPWB2cDFXNaC",
      "execution_count": null,
      "outputs": []
    },
    {
      "cell_type": "markdown",
      "id": "1e5ca3a0",
      "metadata": {
        "id": "1e5ca3a0"
      },
      "source": [
        "## 6. Visualisation des mots les plus fréquents"
      ]
    },
    {
      "cell_type": "code",
      "execution_count": null,
      "id": "0ee7e063",
      "metadata": {
        "id": "0ee7e063"
      },
      "outputs": [],
      "source": [
        "# Extraction de tous les mots issus de la colonne nettoyée\n",
        "all_words = list(itertools.chain(*df['clean_review'].str.split()))"
      ]
    },
    {
      "cell_type": "code",
      "source": [
        "# Compter la fréquence des 20 mots les plus fréquents\n",
        "word_freq = Counter(all_words).most_common(20)\n",
        "words, counts = zip(*word_freq)"
      ],
      "metadata": {
        "id": "y_PRvqFgXc4H"
      },
      "id": "y_PRvqFgXc4H",
      "execution_count": null,
      "outputs": []
    },
    {
      "cell_type": "code",
      "source": [
        "# Affichage sous forme de barplot\n",
        "sns.barplot(x=counts, y=words)\n",
        "plt.title(\"20 mots les plus fréquents\")\n",
        "plt.xlabel(\"Fréquence\")\n",
        "plt.show()"
      ],
      "metadata": {
        "id": "zJYlTuCdXiw_"
      },
      "id": "zJYlTuCdXiw_",
      "execution_count": null,
      "outputs": []
    },
    {
      "cell_type": "code",
      "source": [
        "# Nuage de mots basé sur l'ensemble des mots\n",
        "wordcloud = WordCloud(width=800, height=400, background_color=\"white\").generate(\" \".join(all_words))\n",
        "plt.imshow(wordcloud, interpolation='bilinear')\n",
        "plt.axis(\"off\")\n",
        "plt.title(\"Nuage de mots\")\n",
        "plt.show()"
      ],
      "metadata": {
        "id": "Cw6MN-rLXofl"
      },
      "id": "Cw6MN-rLXofl",
      "execution_count": null,
      "outputs": []
    },
    {
      "cell_type": "markdown",
      "id": "6c940217",
      "metadata": {
        "id": "6c940217"
      },
      "source": [
        "## 7. Vectorisation des textes avec TF-IDF"
      ]
    },
    {
      "cell_type": "code",
      "execution_count": null,
      "id": "296b339b",
      "metadata": {
        "id": "296b339b"
      },
      "outputs": [],
      "source": [
        "# On initialise le vectoriseur TF-IDF en limitant à 5000 features et en incluant\n",
        "vectorizer = TfidfVectorizer(max_features=5000, ngram_range=(1, 2))"
      ]
    },
    {
      "cell_type": "code",
      "source": [
        "# Calcul de la matrice TF-IDF sur les textes nettoyés\n",
        "X = vectorizer.fit_transform(df['clean_review'])"
      ],
      "metadata": {
        "id": "jcqn2asDX3q1"
      },
      "id": "jcqn2asDX3q1",
      "execution_count": null,
      "outputs": []
    },
    {
      "cell_type": "code",
      "source": [
        "# Récupération des labels\n",
        "y = df['label']"
      ],
      "metadata": {
        "id": "U8xcfDICX8A0"
      },
      "id": "U8xcfDICX8A0",
      "execution_count": null,
      "outputs": []
    },
    {
      "cell_type": "markdown",
      "id": "3e04e658",
      "metadata": {
        "id": "3e04e658"
      },
      "source": [
        "## 8. Séparation des données d'entraînement et de test"
      ]
    },
    {
      "cell_type": "code",
      "execution_count": null,
      "id": "15b12d5f",
      "metadata": {
        "id": "15b12d5f"
      },
      "outputs": [],
      "source": [
        "\n",
        "X_train, X_test, y_train, y_test = train_test_split(X, y, test_size=0.2, random_state=42)\n"
      ]
    },
    {
      "cell_type": "markdown",
      "id": "a05770da",
      "metadata": {
        "id": "a05770da"
      },
      "source": [
        "## 9. Entraînement des modèles de classification"
      ]
    },
    {
      "cell_type": "code",
      "execution_count": null,
      "id": "3d4b7fea",
      "metadata": {
        "id": "3d4b7fea"
      },
      "outputs": [],
      "source": [
        "\n",
        "lr_model = LogisticRegression(max_iter=1000)\n",
        "lr_model.fit(X_train, y_train)\n",
        "y_pred_lr = lr_model.predict(X_test)\n",
        "\n",
        "svm_model = LinearSVC()\n",
        "svm_model.fit(X_train, y_train)\n",
        "y_pred_svm = svm_model.predict(X_test)\n",
        "\n",
        "rf_model = RandomForestClassifier(n_estimators=100, random_state=42)\n",
        "rf_model.fit(X_train, y_train)\n",
        "y_pred_rf = rf_model.predict(X_test)\n"
      ]
    },
    {
      "cell_type": "markdown",
      "id": "9752c68f",
      "metadata": {
        "id": "9752c68f"
      },
      "source": [
        "## 10. Évaluation des modèles"
      ]
    },
    {
      "cell_type": "code",
      "execution_count": null,
      "id": "507145d1",
      "metadata": {
        "colab": {
          "base_uri": "https://localhost:8080/",
          "height": 1000
        },
        "id": "507145d1",
        "outputId": "d84bb461-6001-4093-ee67-30eb5812b864"
      },
      "outputs": [
        {
          "output_type": "stream",
          "name": "stdout",
          "text": [
            "=== Régression Logistique ===\n",
            "[[865 110]\n",
            " [104 921]]\n",
            "              precision    recall  f1-score   support\n",
            "\n",
            "           0       0.89      0.89      0.89       975\n",
            "           1       0.89      0.90      0.90      1025\n",
            "\n",
            "    accuracy                           0.89      2000\n",
            "   macro avg       0.89      0.89      0.89      2000\n",
            "weighted avg       0.89      0.89      0.89      2000\n",
            "\n",
            "Accuracy: 0.893\n"
          ]
        },
        {
          "output_type": "display_data",
          "data": {
            "text/plain": [
              "<Figure size 640x480 with 2 Axes>"
            ],
            "image/png": "[encoded data removed]"
          },
          "metadata": {}
        },
        {
          "output_type": "stream",
          "name": "stdout",
          "text": [
            "=== SVM Linéaire ===\n",
            "[[862 113]\n",
            " [110 915]]\n",
            "              precision    recall  f1-score   support\n",
            "\n",
            "           0       0.89      0.88      0.89       975\n",
            "           1       0.89      0.89      0.89      1025\n",
            "\n",
            "    accuracy                           0.89      2000\n",
            "   macro avg       0.89      0.89      0.89      2000\n",
            "weighted avg       0.89      0.89      0.89      2000\n",
            "\n",
            "Accuracy: 0.8885\n"
          ]
        },
        {
          "output_type": "display_data",
          "data": {
            "text/plain": [
              "<Figure size 640x480 with 2 Axes>"
            ],
            "image/png": "[encoded data removed]"
          },
          "metadata": {}
        },
        {
          "output_type": "stream",
          "name": "stdout",
          "text": [
            "=== Random Forest ===\n",
            "[[841 134]\n",
            " [167 858]]\n",
            "              precision    recall  f1-score   support\n",
            "\n",
            "           0       0.83      0.86      0.85       975\n",
            "           1       0.86      0.84      0.85      1025\n",
            "\n",
            "    accuracy                           0.85      2000\n",
            "   macro avg       0.85      0.85      0.85      2000\n",
            "weighted avg       0.85      0.85      0.85      2000\n",
            "\n",
            "Accuracy: 0.8495\n"
          ]
        },
        {
          "output_type": "display_data",
          "data": {
            "text/plain": [
              "<Figure size 640x480 with 2 Axes>"
            ],
            "image/png": "[encoded data removed]"
          },
          "metadata": {}
        }
      ],
      "source": [
        "\n",
        "def eval_model(name, y_true, y_pred):\n",
        "    print(f\"=== {name} ===\")\n",
        "    print(confusion_matrix(y_true, y_pred))\n",
        "    print(classification_report(y_true, y_pred))\n",
        "    print(\"Accuracy:\", accuracy_score(y_true, y_pred))\n",
        "    ConfusionMatrixDisplay.from_predictions(y_true, y_pred, display_labels=[\"Négatif\", \"Positif\"])\n",
        "    plt.title(f\"{name} - Matrice de confusion\")\n",
        "    plt.show()\n",
        "\n",
        "eval_model(\"Régression Logistique\", y_test, y_pred_lr)\n",
        "eval_model(\"SVM Linéaire\", y_test, y_pred_svm)\n",
        "eval_model(\"Random Forest\", y_test, y_pred_rf)\n"
      ]
    },
    {
      "cell_type": "markdown",
      "id": "bcb06d2a",
      "metadata": {
        "id": "bcb06d2a"
      },
      "source": [
        "### 🔍 F1-score pondéré (complément d'évaluation)"
      ]
    },
    {
      "cell_type": "code",
      "execution_count": null,
      "id": "219d0259",
      "metadata": {
        "colab": {
          "base_uri": "https://localhost:8080/"
        },
        "id": "219d0259",
        "outputId": "fa399cf9-d5b1-4244-a57f-c8af2c777afa"
      },
      "outputs": [
        {
          "output_type": "stream",
          "name": "stdout",
          "text": [
            "F1-score pondéré - Logistic Regression : 0.8929910049478792\n",
            "F1-score pondéré - SVM : 0.888495564760353\n",
            "F1-score pondéré - Random Forest : 0.849521109150136\n"
          ]
        }
      ],
      "source": [
        "\n",
        "print(\"F1-score pondéré - Logistic Regression :\", f1_score(y_test, y_pred_lr, average=\"weighted\"))\n",
        "print(\"F1-score pondéré - SVM :\", f1_score(y_test, y_pred_svm, average=\"weighted\"))\n",
        "print(\"F1-score pondéré - Random Forest :\", f1_score(y_test, y_pred_rf, average=\"weighted\"))\n"
      ]
    },
    {
      "cell_type": "markdown",
      "id": "c763887b",
      "metadata": {
        "id": "c763887b"
      },
      "source": [
        "## 11. Comparaison des performances des modèles"
      ]
    },
    {
      "cell_type": "code",
      "execution_count": null,
      "id": "4bcf5151",
      "metadata": {
        "colab": {
          "base_uri": "https://localhost:8080/",
          "height": 453
        },
        "id": "4bcf5151",
        "outputId": "883f1264-04be-49a9-cd6d-f296e8c4d5f4"
      },
      "outputs": [
        {
          "output_type": "display_data",
          "data": {
            "text/plain": [
              "<Figure size 640x480 with 1 Axes>"
            ],
            "image/png": "[encoded data removed]"
          },
          "metadata": {}
        }
      ],
      "source": [
        "\n",
        "models = ['Logistic Regression', 'SVM', 'Random Forest']\n",
        "accuracies = [\n",
        "    accuracy_score(y_test, y_pred_lr),\n",
        "    accuracy_score(y_test, y_pred_svm),\n",
        "    accuracy_score(y_test, y_pred_rf)\n",
        "]\n",
        "\n",
        "sns.barplot(x=models, y=accuracies)\n",
        "plt.title(\"Comparaison des précisions\")\n",
        "plt.ylabel(\"Accuracy\")\n",
        "plt.ylim(0, 1)\n",
        "plt.show()\n"
      ]
    },
    {
      "cell_type": "markdown",
      "id": "968f735f",
      "metadata": {
        "id": "968f735f"
      },
      "source": [
        "## 12. Échantillon de prédictions"
      ]
    },
    {
      "cell_type": "code",
      "execution_count": null,
      "id": "c0f150a2",
      "metadata": {
        "colab": {
          "base_uri": "https://localhost:8080/",
          "height": 206
        },
        "id": "c0f150a2",
        "outputId": "b6312b9d-ca08-43cf-fe80-235bca208bcd"
      },
      "outputs": [
        {
          "output_type": "execute_result",
          "data": {
            "text/plain": [
              "                                              Review  Label réel  \\\n",
              "0  l'idée de la possession ou du dédoublement de ...           0   \n",
              "1  Très bonne comédie dramatique, coécrite et scé...           1   \n",
              "2  Même si l'on sent un véritable engagement de P...           0   \n",
              "3  Son premier film, un court métrage, il l'a réa...           0   \n",
              "4  On sait en allant voir ce film qu'on ne pourra...           0   \n",
              "\n",
              "   Prédiction LR  Prédiction SVM  Prédiction RF  \n",
              "0              0               0              0  \n",
              "1              1               1              1  \n",
              "2              0               0              0  \n",
              "3              0               0              0  \n",
              "4              0               0              0  "
            ],
            "text/html": [
              "\n",
              "  <div id=\"df-65ae7d1b-e46e-4221-9453-f4fa3a61e467\" class=\"colab-df-container\">\n",
              "    <div>\n",
              "<style scoped>\n",
              "    .dataframe tbody tr th:only-of-type {\n",
              "        vertical-align: middle;\n",
              "    }\n",
              "\n",
              "    .dataframe tbody tr th {\n",
              "        vertical-align: top;\n",
              "    }\n",
              "\n",
              "    .dataframe thead th {\n",
              "        text-align: right;\n",
              "    }\n",
              "</style>\n",
              "<table border=\"1\" class=\"dataframe\">\n",
              "  <thead>\n",
              "    <tr style=\"text-align: right;\">\n",
              "      <th></th>\n",
              "      <th>Review</th>\n",
              "      <th>Label réel</th>\n",
              "      <th>Prédiction LR</th>\n",
              "      <th>Prédiction SVM</th>\n",
              "      <th>Prédiction RF</th>\n",
              "    </tr>\n",
              "  </thead>\n",
              "  <tbody>\n",
              "    <tr>\n",
              "      <th>0</th>\n",
              "      <td>l'idée de la possession ou du dédoublement de ...</td>\n",
              "      <td>0</td>\n",
              "      <td>0</td>\n",
              "      <td>0</td>\n",
              "      <td>0</td>\n",
              "    </tr>\n",
              "    <tr>\n",
              "      <th>1</th>\n",
              "      <td>Très bonne comédie dramatique, coécrite et scé...</td>\n",
              "      <td>1</td>\n",
              "      <td>1</td>\n",
              "      <td>1</td>\n",
              "      <td>1</td>\n",
              "    </tr>\n",
              "    <tr>\n",
              "      <th>2</th>\n",
              "      <td>Même si l'on sent un véritable engagement de P...</td>\n",
              "      <td>0</td>\n",
              "      <td>0</td>\n",
              "      <td>0</td>\n",
              "      <td>0</td>\n",
              "    </tr>\n",
              "    <tr>\n",
              "      <th>3</th>\n",
              "      <td>Son premier film, un court métrage, il l'a réa...</td>\n",
              "      <td>0</td>\n",
              "      <td>0</td>\n",
              "      <td>0</td>\n",
              "      <td>0</td>\n",
              "    </tr>\n",
              "    <tr>\n",
              "      <th>4</th>\n",
              "      <td>On sait en allant voir ce film qu'on ne pourra...</td>\n",
              "      <td>0</td>\n",
              "      <td>0</td>\n",
              "      <td>0</td>\n",
              "      <td>0</td>\n",
              "    </tr>\n",
              "  </tbody>\n",
              "</table>\n",
              "</div>\n",
              "    <div class=\"colab-df-buttons\">\n",
              "\n",
              "  <div class=\"colab-df-container\">\n",
              "    <button class=\"colab-df-convert\" onclick=\"convertToInteractive('df-65ae7d1b-e46e-4221-9453-f4fa3a61e467')\"\n",
              "            title=\"Convert this dataframe to an interactive table.\"\n",
              "            style=\"display:none;\">\n",
              "\n",
              "  <svg xmlns=\"http://www.w3.org/2000/svg\" height=\"24px\" viewBox=\"0 -960 960 960\">\n",
              "    <path d=\"M120-120v-720h720v720H120Zm60-500h600v-160H180v160Zm220 220h160v-160H400v160Zm0 220h160v-160H400v160ZM180-400h160v-160H180v160Zm440 0h160v-160H620v160ZM180-180h160v-160H180v160Zm440 0h160v-160H620v160Z\"/>\n",
              "  </svg>\n",
              "    </button>\n",
              "\n",
              "  <style>\n",
              "    .colab-df-container {\n",
              "      display:flex;\n",
              "      gap: 12px;\n",
              "    }\n",
              "\n",
              "    .colab-df-convert {\n",
              "      background-color: #E8F0FE;\n",
              "      border: none;\n",
              "      border-radius: 50%;\n",
              "      cursor: pointer;\n",
              "      display: none;\n",
              "      fill: #1967D2;\n",
              "      height: 32px;\n",
              "      padding: 0 0 0 0;\n",
              "      width: 32px;\n",
              "    }\n",
              "\n",
              "    .colab-df-convert:hover {\n",
              "      background-color: #E2EBFA;\n",
              "      box-shadow: 0px 1px 2px rgba(60, 64, 67, 0.3), 0px 1px 3px 1px rgba(60, 64, 67, 0.15);\n",
              "      fill: #174EA6;\n",
              "    }\n",
              "\n",
              "    .colab-df-buttons div {\n",
              "      margin-bottom: 4px;\n",
              "    }\n",
              "\n",
              "    [theme=dark] .colab-df-convert {\n",
              "      background-color: #3B4455;\n",
              "      fill: #D2E3FC;\n",
              "    }\n",
              "\n",
              "    [theme=dark] .colab-df-convert:hover {\n",
              "      background-color: #434B5C;\n",
              "      box-shadow: 0px 1px 3px 1px rgba(0, 0, 0, 0.15);\n",
              "      filter: drop-shadow(0px 1px 2px rgba(0, 0, 0, 0.3));\n",
              "      fill: #FFFFFF;\n",
              "    }\n",
              "  </style>\n",
              "\n",
              "    <script>\n",
              "      const buttonEl =\n",
              "        document.querySelector('#df-65ae7d1b-e46e-4221-9453-f4fa3a61e467 button.colab-df-convert');\n",
              "      buttonEl.style.display =\n",
              "        google.colab.kernel.accessAllowed ? 'block' : 'none';\n",
              "\n",
              "      async function convertToInteractive(key) {\n",
              "        const element = document.querySelector('#df-65ae7d1b-e46e-4221-9453-f4fa3a61e467');\n",
              "        const dataTable =\n",
              "          await google.colab.kernel.invokeFunction('convertToInteractive',\n",
              "                                                    [key], {});\n",
              "        if (!dataTable) return;\n",
              "\n",
              "        const docLinkHtml = 'Like what you see? Visit the ' +\n",
              "          '<a target=\"_blank\" href=https://colab.research.google.com/notebooks/data_table.ipynb>data table notebook</a>'\n",
              "          + ' to learn more about interactive tables.';\n",
              "        element.innerHTML = '';\n",
              "        dataTable['output_type'] = 'display_data';\n",
              "        await google.colab.output.renderOutput(dataTable, element);\n",
              "        const docLink = document.createElement('div');\n",
              "        docLink.innerHTML = docLinkHtml;\n",
              "        element.appendChild(docLink);\n",
              "      }\n",
              "    </script>\n",
              "  </div>\n",
              "\n",
              "\n",
              "    <div id=\"df-8c46056e-c489-415c-9f4a-d667d928db23\">\n",
              "      <button class=\"colab-df-quickchart\" onclick=\"quickchart('df-8c46056e-c489-415c-9f4a-d667d928db23')\"\n",
              "                title=\"Suggest charts\"\n",
              "                style=\"display:none;\">\n",
              "\n",
              "<svg xmlns=\"http://www.w3.org/2000/svg\" height=\"24px\"viewBox=\"0 0 24 24\"\n",
              "     width=\"24px\">\n",
              "    <g>\n",
              "        <path d=\"M19 3H5c-1.1 0-2 .9-2 2v14c0 1.1.9 2 2 2h14c1.1 0 2-.9 2-2V5c0-1.1-.9-2-2-2zM9 17H7v-7h2v7zm4 0h-2V7h2v10zm4 0h-2v-4h2v4z\"/>\n",
              "    </g>\n",
              "</svg>\n",
              "      </button>\n",
              "\n",
              "<style>\n",
              "  .colab-df-quickchart {\n",
              "      --bg-color: #E8F0FE;\n",
              "      --fill-color: #1967D2;\n",
              "      --hover-bg-color: #E2EBFA;\n",
              "      --hover-fill-color: #174EA6;\n",
              "      --disabled-fill-color: #AAA;\n",
              "      --disabled-bg-color: #DDD;\n",
              "  }\n",
              "\n",
              "  [theme=dark] .colab-df-quickchart {\n",
              "      --bg-color: #3B4455;\n",
              "      --fill-color: #D2E3FC;\n",
              "      --hover-bg-color: #434B5C;\n",
              "      --hover-fill-color: #FFFFFF;\n",
              "      --disabled-bg-color: #3B4455;\n",
              "      --disabled-fill-color: #666;\n",
              "  }\n",
              "\n",
              "  .colab-df-quickchart {\n",
              "    background-color: var(--bg-color);\n",
              "    border: none;\n",
              "    border-radius: 50%;\n",
              "    cursor: pointer;\n",
              "    display: none;\n",
              "    fill: var(--fill-color);\n",
              "    height: 32px;\n",
              "    padding: 0;\n",
              "    width: 32px;\n",
              "  }\n",
              "\n",
              "  .colab-df-quickchart:hover {\n",
              "    background-color: var(--hover-bg-color);\n",
              "    box-shadow: 0 1px 2px rgba(60, 64, 67, 0.3), 0 1px 3px 1px rgba(60, 64, 67, 0.15);\n",
              "    fill: var(--button-hover-fill-color);\n",
              "  }\n",
              "\n",
              "  .colab-df-quickchart-complete:disabled,\n",
              "  .colab-df-quickchart-complete:disabled:hover {\n",
              "    background-color: var(--disabled-bg-color);\n",
              "    fill: var(--disabled-fill-color);\n",
              "    box-shadow: none;\n",
              "  }\n",
              "\n",
              "  .colab-df-spinner {\n",
              "    border: 2px solid var(--fill-color);\n",
              "    border-color: transparent;\n",
              "    border-bottom-color: var(--fill-color);\n",
              "    animation:\n",
              "      spin 1s steps(1) infinite;\n",
              "  }\n",
              "\n",
              "  @keyframes spin {\n",
              "    0% {\n",
              "      border-color: transparent;\n",
              "      border-bottom-color: var(--fill-color);\n",
              "      border-left-color: var(--fill-color);\n",
              "    }\n",
              "    20% {\n",
              "      border-color: transparent;\n",
              "      border-left-color: var(--fill-color);\n",
              "      border-top-color: var(--fill-color);\n",
              "    }\n",
              "    30% {\n",
              "      border-color: transparent;\n",
              "      border-left-color: var(--fill-color);\n",
              "      border-top-color: var(--fill-color);\n",
              "      border-right-color: var(--fill-color);\n",
              "    }\n",
              "    40% {\n",
              "      border-color: transparent;\n",
              "      border-right-color: var(--fill-color);\n",
              "      border-top-color: var(--fill-color);\n",
              "    }\n",
              "    60% {\n",
              "      border-color: transparent;\n",
              "      border-right-color: var(--fill-color);\n",
              "    }\n",
              "    80% {\n",
              "      border-color: transparent;\n",
              "      border-right-color: var(--fill-color);\n",
              "      border-bottom-color: var(--fill-color);\n",
              "    }\n",
              "    90% {\n",
              "      border-color: transparent;\n",
              "      border-bottom-color: var(--fill-color);\n",
              "    }\n",
              "  }\n",
              "</style>\n",
              "\n",
              "      <script>\n",
              "        async function quickchart(key) {\n",
              "          const quickchartButtonEl =\n",
              "            document.querySelector('#' + key + ' button');\n",
              "          quickchartButtonEl.disabled = true;  // To prevent multiple clicks.\n",
              "          quickchartButtonEl.classList.add('colab-df-spinner');\n",
              "          try {\n",
              "            const charts = await google.colab.kernel.invokeFunction(\n",
              "                'suggestCharts', [key], {});\n",
              "          } catch (error) {\n",
              "            console.error('Error during call to suggestCharts:', error);\n",
              "          }\n",
              "          quickchartButtonEl.classList.remove('colab-df-spinner');\n",
              "          quickchartButtonEl.classList.add('colab-df-quickchart-complete');\n",
              "        }\n",
              "        (() => {\n",
              "          let quickchartButtonEl =\n",
              "            document.querySelector('#df-8c46056e-c489-415c-9f4a-d667d928db23 button');\n",
              "          quickchartButtonEl.style.display =\n",
              "            google.colab.kernel.accessAllowed ? 'block' : 'none';\n",
              "        })();\n",
              "      </script>\n",
              "    </div>\n",
              "\n",
              "  <div id=\"id_c521c394-0edd-43f8-9966-18ea6551012d\">\n",
              "    <style>\n",
              "      .colab-df-generate {\n",
              "        background-color: #E8F0FE;\n",
              "        border: none;\n",
              "        border-radius: 50%;\n",
              "        cursor: pointer;\n",
              "        display: none;\n",
              "        fill: #1967D2;\n",
              "        height: 32px;\n",
              "        padding: 0 0 0 0;\n",
              "        width: 32px;\n",
              "      }\n",
              "\n",
              "      .colab-df-generate:hover {\n",
              "        background-color: #E2EBFA;\n",
              "        box-shadow: 0px 1px 2px rgba(60, 64, 67, 0.3), 0px 1px 3px 1px rgba(60, 64, 67, 0.15);\n",
              "        fill: #174EA6;\n",
              "      }\n",
              "\n",
              "      [theme=dark] .colab-df-generate {\n",
              "        background-color: #3B4455;\n",
              "        fill: #D2E3FC;\n",
              "      }\n",
              "\n",
              "      [theme=dark] .colab-df-generate:hover {\n",
              "        background-color: #434B5C;\n",
              "        box-shadow: 0px 1px 3px 1px rgba(0, 0, 0, 0.15);\n",
              "        filter: drop-shadow(0px 1px 2px rgba(0, 0, 0, 0.3));\n",
              "        fill: #FFFFFF;\n",
              "      }\n",
              "    </style>\n",
              "    <button class=\"colab-df-generate\" onclick=\"generateWithVariable('sample_preds')\"\n",
              "            title=\"Generate code using this dataframe.\"\n",
              "            style=\"display:none;\">\n",
              "\n",
              "  <svg xmlns=\"http://www.w3.org/2000/svg\" height=\"24px\"viewBox=\"0 0 24 24\"\n",
              "       width=\"24px\">\n",
              "    <path d=\"M7,19H8.4L18.45,9,17,7.55,7,17.6ZM5,21V16.75L18.45,3.32a2,2,0,0,1,2.83,0l1.4,1.43a1.91,1.91,0,0,1,.58,1.4,1.91,1.91,0,0,1-.58,1.4L9.25,21ZM18.45,9,17,7.55Zm-12,3A5.31,5.31,0,0,0,4.9,8.1,5.31,5.31,0,0,0,1,6.5,5.31,5.31,0,0,0,4.9,4.9,5.31,5.31,0,0,0,6.5,1,5.31,5.31,0,0,0,8.1,4.9,5.31,5.31,0,0,0,12,6.5,5.46,5.46,0,0,0,6.5,12Z\"/>\n",
              "  </svg>\n",
              "    </button>\n",
              "    <script>\n",
              "      (() => {\n",
              "      const buttonEl =\n",
              "        document.querySelector('#id_c521c394-0edd-43f8-9966-18ea6551012d button.colab-df-generate');\n",
              "      buttonEl.style.display =\n",
              "        google.colab.kernel.accessAllowed ? 'block' : 'none';\n",
              "\n",
              "      buttonEl.onclick = () => {\n",
              "        google.colab.notebook.generateWithVariable('sample_preds');\n",
              "      }\n",
              "      })();\n",
              "    </script>\n",
              "  </div>\n",
              "\n",
              "    </div>\n",
              "  </div>\n"
            ],
            "application/vnd.google.colaboratory.intrinsic+json": {
              "type": "dataframe",
              "variable_name": "sample_preds",
              "summary": "{\n  \"name\": \"sample_preds\",\n  \"rows\": 5,\n  \"fields\": [\n    {\n      \"column\": \"Review\",\n      \"properties\": {\n        \"dtype\": \"string\",\n        \"num_unique_values\": 5,\n        \"samples\": [\n          \"Tr\\u00e8s bonne com\\u00e9die dramatique, co\\u00e9crite et sc\\u00e9naris\\u00e9e par Jean-Pierre Am\\u00e9ris. La mise en sc\\u00e8ne de haute pr\\u00e9cision est aussi d\\u2019une profonde d\\u00e9licatesse. Le sc\\u00e9nario nous d\\u00e9livre quantit\\u00e9 de sc\\u00e8nes d\\u2019une intense \\u00e9motion. Les d\\u00e9cors de Provence sont magnifiques ; la bande son nous gratifie de jolies insertions musicales. Cette com\\u00e9die b\\u00e9n\\u00e9ficie \\u00e9galement d\\u2019un tr\\u00e8s bon casting : tous les com\\u00e9diens, y compris les seconds r\\u00f4les, sont d\\u2019une grande sinc\\u00e9rit\\u00e9. Les r\\u00f4les principaux sont superbement interpr\\u00e9t\\u00e9s par Jacques Dutronc, tr\\u00e8s profond, et Sandrine Bonnaire, lumineuse. Apr\\u00e8s deux bonnes com\\u00e9dies : Une famille \\u00e0 louer (2015) et Les \\u00c9motifs anonymes (2010), C\\u2019Est-La-Vie est ma troisi\\u00e8me rencontre avec ce r\\u00e9alisateur. Le Pitch : Dimitri est tr\\u00e8s malade,Il lui reste un mois \\u00e0 vivre mais n\\u2019est pas d\\u00e9cid\\u00e9 \\u00e0 mourir. Il quitte Marseille pour entrer en maison de repos.\",\n          \"On sait en allant voir ce film qu'on ne pourra pas retrouver ce que l'on avait dans le premier. Les personnages ont vieilli, chang\\u00e9, et ce n'est pas un probl\\u00e8me si ce changement donne une r\\u00e9elle valeur ajout\\u00e9e. Malheureusement, ce n est pas le cas. Ce film est gris, d\\u00e9primant, je n'ai ressenti aucune \\u00e9motion alors que justement c'\\u00e9tait sa force, nous toucher. Les personnages sont creux, certains dans la surench\\u00e8re, d'autres inexistants, rien n'est abouti, on dirait que personne n'y croit, guillaume Canet en premier, on a perdu cette fra\\u00eecheur, cette spontan\\u00e9it\\u00e9, cette folie, les gags sont telephones, il n'y a plus de surprise ou alors des mauvaises. On est quand m\\u00eame content de retrouver cette bande de potes, mais on avait envie d en faire partie, elle nous faisait r\\u00eaver, la on a envie de la fuir, le plus dur c est pour Jean Louis, qu on adore et qui semble se demander ce qu il fout dans cette gal\\u00e8re. Bref, \\u00e7a m ennuie de le dire mais je suis ressorti du film avec l'impression de m'\\u00eatre autant fait avoir que dans les bronzes 3.\",\n          \"M\\u00eame si l'on sent un v\\u00e9ritable engagement de Philippe Lellouche, un film simple et sinc\\u00e8re aux forts accents personnels, la mayonnaise ne prend pas : trop de longueurs, une histoire qui ne d\\u00e9colle jamais et un m\\u00e9chant air de d\\u00e9j\\u00e0-vu 50 fois. Bref, faute de mayonnaise, le steak se mange cru sans go\\u00fbt...\"\n        ],\n        \"semantic_type\": \"\",\n        \"description\": \"\"\n      }\n    },\n    {\n      \"column\": \"Label r\\u00e9el\",\n      \"properties\": {\n        \"dtype\": \"number\",\n        \"std\": 0,\n        \"min\": 0,\n        \"max\": 1,\n        \"num_unique_values\": 2,\n        \"samples\": [\n          1,\n          0\n        ],\n        \"semantic_type\": \"\",\n        \"description\": \"\"\n      }\n    },\n    {\n      \"column\": \"Pr\\u00e9diction LR\",\n      \"properties\": {\n        \"dtype\": \"number\",\n        \"std\": 0,\n        \"min\": 0,\n        \"max\": 1,\n        \"num_unique_values\": 2,\n        \"samples\": [\n          1,\n          0\n        ],\n        \"semantic_type\": \"\",\n        \"description\": \"\"\n      }\n    },\n    {\n      \"column\": \"Pr\\u00e9diction SVM\",\n      \"properties\": {\n        \"dtype\": \"number\",\n        \"std\": 0,\n        \"min\": 0,\n        \"max\": 1,\n        \"num_unique_values\": 2,\n        \"samples\": [\n          1,\n          0\n        ],\n        \"semantic_type\": \"\",\n        \"description\": \"\"\n      }\n    },\n    {\n      \"column\": \"Pr\\u00e9diction RF\",\n      \"properties\": {\n        \"dtype\": \"number\",\n        \"std\": 0,\n        \"min\": 0,\n        \"max\": 1,\n        \"num_unique_values\": 2,\n        \"samples\": [\n          1,\n          0\n        ],\n        \"semantic_type\": \"\",\n        \"description\": \"\"\n      }\n    }\n  ]\n}"
            }
          },
          "metadata": {},
          "execution_count": 20
        }
      ],
      "source": [
        "\n",
        "indices = y_test.iloc[:5].index\n",
        "sample_preds = pd.DataFrame({\n",
        "    \"Review\": df.loc[indices, 'review'].values,\n",
        "    \"Label réel\": y_test.loc[indices].values,\n",
        "    \"Prédiction LR\": y_pred_lr[:5],\n",
        "    \"Prédiction SVM\": y_pred_svm[:5],\n",
        "    \"Prédiction RF\": y_pred_rf[:5]\n",
        "})\n",
        "sample_preds\n"
      ]
    },
    {
      "cell_type": "markdown",
      "id": "497d8ca1",
      "metadata": {
        "id": "497d8ca1"
      },
      "source": [
        "## 13. Sauvegarde des modèles entraînés"
      ]
    },
    {
      "cell_type": "code",
      "execution_count": null,
      "id": "112610cd",
      "metadata": {
        "colab": {
          "base_uri": "https://localhost:8080/"
        },
        "id": "112610cd",
        "outputId": "532080c3-278e-41b5-8a0f-1ffca8a658f6"
      },
      "outputs": [
        {
          "output_type": "stream",
          "name": "stdout",
          "text": [
            "Tous les modèles ont été sauvegardés avec succès.\n"
          ]
        }
      ],
      "source": [
        "\n",
        "joblib.dump(vectorizer, \"tfidf_vectorizer.pkl\")\n",
        "joblib.dump(lr_model, \"logistic_model.pkl\")\n",
        "joblib.dump(svm_model, \"svm_model.pkl\")\n",
        "joblib.dump(rf_model, \"random_forest_model.pkl\")\n",
        "\n",
        "pipeline_lr = Pipeline([\n",
        "    ('tfidf', TfidfVectorizer(max_features=5000, ngram_range=(1, 2))),\n",
        "    ('clf', LogisticRegression(max_iter=1000))\n",
        "])\n",
        "pipeline_lr.fit(df['clean_review'], df['label'])\n",
        "joblib.dump(pipeline_lr, \"pipeline_logistic.pkl\")\n",
        "\n",
        "print(\"Tous les modèles ont été sauvegardés avec succès.\")\n"
      ]
    }
  ],
  "metadata": {
    "kernelspec": {
      "display_name": "base",
      "language": "python",
      "name": "python3"
    },
    "language_info": {
      "codemirror_mode": {
        "name": "ipython",
        "version": 3
      },
      "file_extension": ".py",
      "mimetype": "text/x-python",
      "name": "python",
      "nbconvert_exporter": "python",
      "pygments_lexer": "ipython3",
      "version": "3.12.7"
    },
    "colab": {
      "provenance": [],
      "include_colab_link": true
    }
  },
  "nbformat": 4,
  "nbformat_minor": 5
}